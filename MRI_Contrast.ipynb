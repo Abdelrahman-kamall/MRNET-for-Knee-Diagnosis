{
  "nbformat": 4,
  "nbformat_minor": 0,
  "metadata": {
    "colab": {
      "name": "MRI Contrast.ipynb",
      "provenance": [],
      "collapsed_sections": [],
      "authorship_tag": "ABX9TyOobQo4J6jUyMpdD3lFCc24",
      "include_colab_link": true
    },
    "kernelspec": {
      "name": "python3",
      "display_name": "Python 3"
    }
  },
  "cells": [
    {
      "cell_type": "markdown",
      "metadata": {
        "id": "view-in-github",
        "colab_type": "text"
      },
      "source": [
        "<a href=\"https://colab.research.google.com/github/Jamaleldin/MRNET-for-Knee-Diagnosis/blob/contribution/MRI_Contrast.ipynb\" target=\"_parent\"><img src=\"https://colab.research.google.com/assets/colab-badge.svg\" alt=\"Open In Colab\"/></a>"
      ]
    },
    {
      "cell_type": "markdown",
      "metadata": {
        "id": "SmJCVADS22bg",
        "colab_type": "text"
      },
      "source": [
        "# Needed Imports"
      ]
    },
    {
      "cell_type": "code",
      "metadata": {
        "id": "ytKBUMSf23Pf",
        "colab_type": "code",
        "colab": {}
      },
      "source": [
        "from tensorflow.keras.models import Sequential\n",
        "from tensorflow.keras.layers import Dense, Activation, Flatten, BatchNormalization\n",
        "from tensorflow.keras.layers import Conv2D, MaxPooling2D"
      ],
      "execution_count": 0,
      "outputs": []
    },
    {
      "cell_type": "markdown",
      "metadata": {
        "id": "M2M8AQiI3D4m",
        "colab_type": "text"
      },
      "source": [
        "# CNN Model"
      ]
    },
    {
      "cell_type": "code",
      "metadata": {
        "id": "3qzMBiqb2zZ4",
        "colab_type": "code",
        "colab": {}
      },
      "source": [
        "def getCNN():\n",
        "\n",
        "    # Define the model architecture: layers, parameters, etc...\n",
        "    # nb_classes=8, is the number of MRI contrasts the algorithm models\n",
        "    # input_shape=(1,32,32), is the dimension of one sagittal slice\n",
        "    input_layer = Input(shape=(256, 256, 3))\n",
        "    model = Sequential()\n",
        "\n",
        "    model.add(Conv2D(32, (3, 3), padding='same', input_shape=input_layer,name='convo2D_000'))\n",
        "    model.add(BatchNormalization(axis=1,name='batch_001'))\n",
        "    model.add(Activation('relu',name='relu_002'))\n",
        "    model.add(Conv2D(32, (3, 3),name='convo2D_003'))\n",
        "    model.add(BatchNormalization(axis=1,name='batch_004'))\n",
        "    model.add(Activation('relu',name='relu_005'))\n",
        "    model.add(MaxPooling2D(pool_size=(2, 2),name='pool_006'))\n",
        "\n",
        "    model.add(Conv2D(64, (3, 3), padding='same',name='convo2D_007'))\n",
        "    model.add(BatchNormalization(axis=1,name='batch_008'))\n",
        "    model.add(Activation('relu',name='relu_009'))\n",
        "    model.add(Conv2D(64, (3, 3),name='convo2D_010'))\n",
        "    model.add(BatchNormalization(axis=1,name='batch_011'))\n",
        "    model.add(Activation('relu',name='relu_012'))\n",
        "    model.add(MaxPooling2D(pool_size=(2, 2),name='pool_013'))\n",
        "\n",
        "    model.add(Conv2D(128, (3, 3), padding='same',name='convo2D_014'))\n",
        "    model.add(BatchNormalization(axis=1,name='batch_015'))\n",
        "    model.add(Activation('relu',name='relu_016'))\n",
        "    model.add(Conv2D(128, (3, 3),name='convo2D_017'))\n",
        "    model.add(BatchNormalization(axis=1,name='batch_018'))\n",
        "    model.add(Activation('relu',name='relu_019'))\n",
        "    model.add(MaxPooling2D(pool_size=(2, 2),name='pool_020'))\n",
        "\n",
        "    model.add(Flatten(name='flat_021'))\n",
        "    model.add(Dense(1024,name='dense_022'))\n",
        "    model.add(BatchNormalization(axis=1,name='batch_0023'))\n",
        "    model.add(Activation('relu',name='relu_024'))\n",
        "    model.add(Dense(1,name='dense_025'))\n",
        "    model.add(Activation('sigmoid',name='soft_026'))\n",
        "\n",
        "    model.compile(loss='binary_crossentropy', optimizer=optimizers.Adam(1e-5), metrics=['acc'])\n",
        "    print(model.summary())\n",
        "\n",
        "    return model"
      ],
      "execution_count": 0,
      "outputs": []
    },
    {
      "cell_type": "markdown",
      "metadata": {
        "id": "Md2r9NYx4lJP",
        "colab_type": "text"
      },
      "source": [
        "# Train Extractors"
      ]
    },
    {
      "cell_type": "markdown",
      "metadata": {
        "id": "sQZh9a8V5jxW",
        "colab_type": "text"
      },
      "source": [
        "\n",
        "### Sagittal Abnormal"
      ]
    },
    {
      "cell_type": "code",
      "metadata": {
        "id": "vqZQ_BuE4oge",
        "colab_type": "code",
        "colab": {}
      },
      "source": [
        "contrast_cnn = getCNN()\n",
        "processing.train_extractor(contrast_cnn, processing.inception, processing.sagittal, processing.abnormal)"
      ],
      "execution_count": 0,
      "outputs": []
    },
    {
      "cell_type": "markdown",
      "metadata": {
        "id": "O5UD4TU05oXp",
        "colab_type": "text"
      },
      "source": [
        "\n",
        "### Sagittal ACL"
      ]
    },
    {
      "cell_type": "code",
      "metadata": {
        "id": "BRbeK7QQ5o4b",
        "colab_type": "code",
        "colab": {}
      },
      "source": [
        "contrast_cnn = getCNN()\n",
        "processing.train_extractor(contrast_cnn, processing.inception, processing.sagittal, processing.acl)"
      ],
      "execution_count": 0,
      "outputs": []
    },
    {
      "cell_type": "markdown",
      "metadata": {
        "id": "jZkMt5bI5pb4",
        "colab_type": "text"
      },
      "source": [
        "\n",
        "### Sagittal Meniscal"
      ]
    },
    {
      "cell_type": "code",
      "metadata": {
        "id": "yEPJcME45rK0",
        "colab_type": "code",
        "colab": {}
      },
      "source": [
        "contrast_cnn = getCNN()\n",
        "processing.train_extractor(contrast_cnn, processing.inception, processing.sagittal, processing.meniscal)"
      ],
      "execution_count": 0,
      "outputs": []
    },
    {
      "cell_type": "markdown",
      "metadata": {
        "id": "k5lrU3k37N03",
        "colab_type": "text"
      },
      "source": [
        "### Axial Abnormal"
      ]
    },
    {
      "cell_type": "code",
      "metadata": {
        "id": "speGmNL17OVH",
        "colab_type": "code",
        "colab": {}
      },
      "source": [
        "contrast_cnn = getCNN()\n",
        "processing.train_extractor(contrast_cnn, processing.inception, processing.axial, processing.abnormal)"
      ],
      "execution_count": 0,
      "outputs": []
    },
    {
      "cell_type": "markdown",
      "metadata": {
        "id": "4kS6grGC7Owl",
        "colab_type": "text"
      },
      "source": [
        "### Axial ACL"
      ]
    },
    {
      "cell_type": "code",
      "metadata": {
        "id": "j2_-N88Q7PJX",
        "colab_type": "code",
        "colab": {}
      },
      "source": [
        "contrast_cnn = getCNN()\n",
        "processing.train_extractor(contrast_cnn, processing.inception, processing.axial, processing.acl)"
      ],
      "execution_count": 0,
      "outputs": []
    },
    {
      "cell_type": "markdown",
      "metadata": {
        "id": "-fhFjppu7Pdc",
        "colab_type": "text"
      },
      "source": [
        "### Axial Meniscal"
      ]
    },
    {
      "cell_type": "code",
      "metadata": {
        "id": "jbb3isUP7P2H",
        "colab_type": "code",
        "colab": {}
      },
      "source": [
        "contrast_cnn = getCNN()\n",
        "processing.train_extractor(contrast_cnn, processing.inception, processing.axial, processing.meniscal)"
      ],
      "execution_count": 0,
      "outputs": []
    },
    {
      "cell_type": "markdown",
      "metadata": {
        "id": "xEMl_KD67jUP",
        "colab_type": "text"
      },
      "source": [
        "### Coronal Abnormal"
      ]
    },
    {
      "cell_type": "code",
      "metadata": {
        "id": "yOpOJQOU7jt6",
        "colab_type": "code",
        "colab": {}
      },
      "source": [
        "contrast_cnn = getCNN()\n",
        "processing.train_extractor(contrast_cnn, processing.inception, processing.coronal, processing.abnormal)"
      ],
      "execution_count": 0,
      "outputs": []
    },
    {
      "cell_type": "markdown",
      "metadata": {
        "id": "HgiZNm9v7kDV",
        "colab_type": "text"
      },
      "source": [
        "### Coronal ACL"
      ]
    },
    {
      "cell_type": "code",
      "metadata": {
        "id": "5Q5SZii97kzr",
        "colab_type": "code",
        "colab": {}
      },
      "source": [
        "contrast_cnn = getCNN()\n",
        "processing.train_extractor(contrast_cnn, processing.inception, processing.coronal, processing.acl)"
      ],
      "execution_count": 0,
      "outputs": []
    },
    {
      "cell_type": "markdown",
      "metadata": {
        "id": "PlgOVsgC7lIz",
        "colab_type": "text"
      },
      "source": [
        "### Coronal Meniscal"
      ]
    },
    {
      "cell_type": "code",
      "metadata": {
        "id": "cP_2tSFM7lle",
        "colab_type": "code",
        "colab": {}
      },
      "source": [
        "contrast_cnn = getCNN()\n",
        "processing.train_extractor(contrast_cnn, processing.inception, processing.coronal, processing.meniscal)"
      ],
      "execution_count": 0,
      "outputs": []
    },
    {
      "cell_type": "markdown",
      "metadata": {
        "colab_type": "text",
        "id": "ypuY1bqz8DCm"
      },
      "source": [
        "# Train Classifiers"
      ]
    },
    {
      "cell_type": "code",
      "metadata": {
        "id": "pm-evAc88uEv",
        "colab_type": "code",
        "colab": {}
      },
      "source": [
        "def classifier():\n",
        "  classifier = Sequential()\n",
        "  classifier.add(Dense(1024)\n",
        "  classifier.add(BatchNormalization(axis=1)\n",
        "  classifier.add(Activation('relu'))\n",
        "  classifier.add(Dense(1))\n",
        "  classifier.add(Activation('sigmoid'))\n",
        "  classifier.compile(loss='binary_crossentropy', optimizer=optimizers.Adam(1e-5), metrics=['acc'])\n",
        "  return classifier"
      ],
      "execution_count": 0,
      "outputs": []
    },
    {
      "cell_type": "markdown",
      "metadata": {
        "colab_type": "text",
        "id": "u6xncNL38DC4"
      },
      "source": [
        "\n",
        "### Sagittal Abnormal"
      ]
    },
    {
      "cell_type": "code",
      "metadata": {
        "colab_type": "code",
        "id": "3EBilMa08DC-",
        "colab": {}
      },
      "source": [
        "loaded_model = processing.load_model(processing.inception, processing.sagittal, processing.abnormal, processing.extractor)\n",
        "extractor_model = Model(inputs=loaded_model.input, outputs=loaded_model.get_layer('block5_2').output)\n",
        "extractor_model.summary()\n",
        "#making classifier\n",
        "classifier_model = classifier()\n",
        "#train classifier\n",
        "processing.train_classifier(extractor_model, classifier_model, processing.inception, processing.sagittal, processing.abnormal)"
      ],
      "execution_count": 0,
      "outputs": []
    },
    {
      "cell_type": "markdown",
      "metadata": {
        "colab_type": "text",
        "id": "BYLGa6018DDa"
      },
      "source": [
        "\n",
        "### Sagittal ACL"
      ]
    },
    {
      "cell_type": "code",
      "metadata": {
        "colab_type": "code",
        "id": "sP6CeHDr8DDr",
        "colab": {}
      },
      "source": [
        "contrast_cnn = getCNN()\n",
        "processing.train_extractor(contrast_cnn, processing.inception, processing.sagittal, processing.acl)"
      ],
      "execution_count": 0,
      "outputs": []
    },
    {
      "cell_type": "markdown",
      "metadata": {
        "colab_type": "text",
        "id": "c_m0TGxe8DEJ"
      },
      "source": [
        "\n",
        "### Sagittal Meniscal"
      ]
    },
    {
      "cell_type": "code",
      "metadata": {
        "colab_type": "code",
        "id": "RSGmR9Be8DEN",
        "colab": {}
      },
      "source": [
        "contrast_cnn = getCNN()\n",
        "processing.train_extractor(contrast_cnn, processing.inception, processing.sagittal, processing.meniscal)"
      ],
      "execution_count": 0,
      "outputs": []
    },
    {
      "cell_type": "markdown",
      "metadata": {
        "colab_type": "text",
        "id": "XlcwxQP18DEs"
      },
      "source": [
        "### Axial Abnormal"
      ]
    },
    {
      "cell_type": "code",
      "metadata": {
        "colab_type": "code",
        "id": "wkieGWrS8DEy",
        "colab": {}
      },
      "source": [
        "contrast_cnn = getCNN()\n",
        "processing.train_extractor(contrast_cnn, processing.inception, processing.axial, processing.abnormal)"
      ],
      "execution_count": 0,
      "outputs": []
    },
    {
      "cell_type": "markdown",
      "metadata": {
        "colab_type": "text",
        "id": "38f-xq4v8DFJ"
      },
      "source": [
        "### Axial ACL"
      ]
    },
    {
      "cell_type": "code",
      "metadata": {
        "colab_type": "code",
        "id": "WlF1hq4L8DFN",
        "colab": {}
      },
      "source": [
        "contrast_cnn = getCNN()\n",
        "processing.train_extractor(contrast_cnn, processing.inception, processing.axial, processing.acl)"
      ],
      "execution_count": 0,
      "outputs": []
    },
    {
      "cell_type": "markdown",
      "metadata": {
        "colab_type": "text",
        "id": "VrUcVQmz8DGJ"
      },
      "source": [
        "### Axial Meniscal"
      ]
    },
    {
      "cell_type": "code",
      "metadata": {
        "colab_type": "code",
        "id": "OHsIPs1M8DGM",
        "colab": {}
      },
      "source": [
        "contrast_cnn = getCNN()\n",
        "processing.train_extractor(contrast_cnn, processing.inception, processing.axial, processing.meniscal)"
      ],
      "execution_count": 0,
      "outputs": []
    },
    {
      "cell_type": "markdown",
      "metadata": {
        "colab_type": "text",
        "id": "LbZRSncu8DGp"
      },
      "source": [
        "### Coronal Abnormal"
      ]
    },
    {
      "cell_type": "code",
      "metadata": {
        "colab_type": "code",
        "id": "7VRBbYyA8DG-",
        "colab": {}
      },
      "source": [
        "contrast_cnn = getCNN()\n",
        "processing.train_extractor(contrast_cnn, processing.inception, processing.coronal, processing.abnormal)"
      ],
      "execution_count": 0,
      "outputs": []
    },
    {
      "cell_type": "markdown",
      "metadata": {
        "colab_type": "text",
        "id": "3o3bd5_l8DHo"
      },
      "source": [
        "### Coronal ACL"
      ]
    },
    {
      "cell_type": "code",
      "metadata": {
        "colab_type": "code",
        "id": "e0i_5dmB8DHr",
        "colab": {}
      },
      "source": [
        "contrast_cnn = getCNN()\n",
        "processing.train_extractor(contrast_cnn, processing.inception, processing.coronal, processing.acl)"
      ],
      "execution_count": 0,
      "outputs": []
    },
    {
      "cell_type": "markdown",
      "metadata": {
        "colab_type": "text",
        "id": "YxYWbFCl8DIQ"
      },
      "source": [
        "### Coronal Meniscal"
      ]
    },
    {
      "cell_type": "code",
      "metadata": {
        "colab_type": "code",
        "id": "QBX5rWRt8DIU",
        "colab": {}
      },
      "source": [
        "contrast_cnn = getCNN()\n",
        "processing.train_extractor(contrast_cnn, processing.inception, processing.coronal, processing.meniscal)"
      ],
      "execution_count": 0,
      "outputs": []
    }
  ]
}