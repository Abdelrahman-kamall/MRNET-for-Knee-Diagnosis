{
  "nbformat": 4,
  "nbformat_minor": 0,
  "metadata": {
    "colab": {
      "name": "MRI Contrast.ipynb",
      "provenance": [],
      "collapsed_sections": [],
      "include_colab_link": true
    },
    "kernelspec": {
      "name": "python3",
      "display_name": "Python 3"
    }
  },
  "cells": [
    {
      "cell_type": "markdown",
      "metadata": {
        "id": "view-in-github",
        "colab_type": "text"
      },
      "source": [
        "<a href=\"https://colab.research.google.com/github/Jamaleldin/MRNET-for-Knee-Diagnosis/blob/contribution/MRI_Contrast.ipynb\" target=\"_parent\"><img src=\"https://colab.research.google.com/assets/colab-badge.svg\" alt=\"Open In Colab\"/></a>"
      ]
    },
    {
      "cell_type": "markdown",
      "metadata": {
        "id": "SmJCVADS22bg",
        "colab_type": "text"
      },
      "source": [
        "# Needed Imports"
      ]
    },
    {
      "cell_type": "code",
      "metadata": {
        "id": "ytKBUMSf23Pf",
        "colab_type": "code",
        "colab": {}
      },
      "source": [
        "from tensorflow.keras.models import Sequential\n",
        "from tensorflow.keras.layers import Dense, Activation, Flatten, BatchNormalization\n",
        "from tensorflow.keras.layers import Conv2D, MaxPooling2D\n",
        "from tensorflow.keras import optimizers"
      ],
      "execution_count": 0,
      "outputs": []
    },
    {
      "cell_type": "markdown",
      "metadata": {
        "id": "M2M8AQiI3D4m",
        "colab_type": "text"
      },
      "source": [
        "# Extractor Model"
      ]
    },
    {
      "cell_type": "code",
      "metadata": {
        "id": "3qzMBiqb2zZ4",
        "colab_type": "code",
        "colab": {}
      },
      "source": [
        "# This is the feature extractor model based on the architecture used in the paper.\n",
        "def extractor():\n",
        "    model = Sequential()\n",
        "    # The main architecture is based on cnn layers of 3x3 filters\n",
        "    # The extractor consisits of 3 similar blocks:\n",
        "    # The first block has 32 filters in convolutional layers, the second has 64 and the third has 128\n",
        "    # Each block has 2 convolutional layers separated by batch normalizations and a relu activation layer\n",
        "    # between each 2 blocks there is a max pooling layer of size 2x2\n",
        "    \n",
        "    # First block\n",
        "    model.add(Conv2D(32, (3, 3), padding='same', input_shape=(256,256,3)))\n",
        "    model.add(BatchNormalization(axis=1))\n",
        "    model.add(Activation('relu'))\n",
        "    model.add(Conv2D(32, (3, 3)))\n",
        "    model.add(BatchNormalization(axis=1))\n",
        "    model.add(Activation('relu'))\n",
        "    model.add(MaxPooling2D(pool_size=(2, 2)))\n",
        "    # Second block\n",
        "    model.add(Conv2D(64, (3, 3), padding='same'))\n",
        "    model.add(BatchNormalization(axis=1))\n",
        "    model.add(Activation('relu'))\n",
        "    model.add(Conv2D(64, (3, 3)))\n",
        "    model.add(BatchNormalization(axis=1))\n",
        "    model.add(Activation('relu'))\n",
        "    model.add(MaxPooling2D(pool_size=(2, 2)))\n",
        "    # Third block\n",
        "    model.add(Conv2D(128, (3, 3), padding='same'))\n",
        "    model.add(BatchNormalization(axis=1))\n",
        "    model.add(Activation('relu'))\n",
        "    model.add(Conv2D(128, (3, 3)))\n",
        "    model.add(BatchNormalization(axis=1))\n",
        "    model.add(Activation('relu'))\n",
        "    model.add(MaxPooling2D(pool_size=(2, 2))) \n",
        "   \n",
        "   \n",
        "    # This part is to be removed as the same approach used before\n",
        "    # model.add(Flatten(name='flat_021'))\n",
        "    # model.add(Dense(1024,name='dense_022'))\n",
        "    # model.add(BatchNormalization(axis=1,name='batch_0023'))\n",
        "    # model.add(Activation('relu',name='relu_024'))\n",
        "    # model.add(Dense(1,name='dense_025'))\n",
        "    # model.add(Activation('sigmoid',name='soft_026'))\n",
        "\n",
        "    model.compile(loss='binary_crossentropy', optimizer=optimizers.Adam(1e-5), metrics=['acc'])\n",
        "    return model"
      ],
      "execution_count": 0,
      "outputs": []
    },
    {
      "cell_type": "code",
      "metadata": {
        "id": "em5A28xuFLaU",
        "colab_type": "code",
        "colab": {
          "base_uri": "https://localhost:8080/",
          "height": 897
        },
        "outputId": "d6e9baa4-49db-416b-a36a-29ebe232be33"
      },
      "source": [
        "extractor().summary()"
      ],
      "execution_count": 15,
      "outputs": [
        {
          "output_type": "stream",
          "text": [
            "Model: \"sequential_5\"\n",
            "_________________________________________________________________\n",
            "Layer (type)                 Output Shape              Param #   \n",
            "=================================================================\n",
            "conv2d_19 (Conv2D)           (None, 256, 256, 32)      896       \n",
            "_________________________________________________________________\n",
            "batch_normalization_18 (Batc (None, 256, 256, 32)      1024      \n",
            "_________________________________________________________________\n",
            "activation_18 (Activation)   (None, 256, 256, 32)      0         \n",
            "_________________________________________________________________\n",
            "conv2d_20 (Conv2D)           (None, 254, 254, 32)      9248      \n",
            "_________________________________________________________________\n",
            "batch_normalization_19 (Batc (None, 254, 254, 32)      1016      \n",
            "_________________________________________________________________\n",
            "activation_19 (Activation)   (None, 254, 254, 32)      0         \n",
            "_________________________________________________________________\n",
            "max_pooling2d_6 (MaxPooling2 (None, 127, 127, 32)      0         \n",
            "_________________________________________________________________\n",
            "conv2d_21 (Conv2D)           (None, 127, 127, 64)      18496     \n",
            "_________________________________________________________________\n",
            "batch_normalization_20 (Batc (None, 127, 127, 64)      508       \n",
            "_________________________________________________________________\n",
            "activation_20 (Activation)   (None, 127, 127, 64)      0         \n",
            "_________________________________________________________________\n",
            "conv2d_22 (Conv2D)           (None, 125, 125, 64)      36928     \n",
            "_________________________________________________________________\n",
            "batch_normalization_21 (Batc (None, 125, 125, 64)      500       \n",
            "_________________________________________________________________\n",
            "activation_21 (Activation)   (None, 125, 125, 64)      0         \n",
            "_________________________________________________________________\n",
            "max_pooling2d_7 (MaxPooling2 (None, 62, 62, 64)        0         \n",
            "_________________________________________________________________\n",
            "conv2d_23 (Conv2D)           (None, 62, 62, 128)       73856     \n",
            "_________________________________________________________________\n",
            "batch_normalization_22 (Batc (None, 62, 62, 128)       248       \n",
            "_________________________________________________________________\n",
            "activation_22 (Activation)   (None, 62, 62, 128)       0         \n",
            "_________________________________________________________________\n",
            "conv2d_24 (Conv2D)           (None, 60, 60, 128)       147584    \n",
            "_________________________________________________________________\n",
            "batch_normalization_23 (Batc (None, 60, 60, 128)       240       \n",
            "_________________________________________________________________\n",
            "activation_23 (Activation)   (None, 60, 60, 128)       0         \n",
            "_________________________________________________________________\n",
            "max_pooling2d_8 (MaxPooling2 (None, 30, 30, 128)       0         \n",
            "=================================================================\n",
            "Total params: 290,544\n",
            "Trainable params: 288,776\n",
            "Non-trainable params: 1,768\n",
            "_________________________________________________________________\n"
          ],
          "name": "stdout"
        }
      ]
    },
    {
      "cell_type": "markdown",
      "metadata": {
        "id": "Md2r9NYx4lJP",
        "colab_type": "text"
      },
      "source": [
        "# Train Extractors"
      ]
    },
    {
      "cell_type": "markdown",
      "metadata": {
        "id": "sQZh9a8V5jxW",
        "colab_type": "text"
      },
      "source": [
        "\n",
        "### Sagittal Abnormal"
      ]
    },
    {
      "cell_type": "code",
      "metadata": {
        "id": "vqZQ_BuE4oge",
        "colab_type": "code",
        "colab": {}
      },
      "source": [
        "contrast_cnn = getCNN()\n",
        "processing.train_extractor(contrast_cnn, processing.inception, processing.sagittal, processing.abnormal)"
      ],
      "execution_count": 0,
      "outputs": []
    },
    {
      "cell_type": "markdown",
      "metadata": {
        "id": "O5UD4TU05oXp",
        "colab_type": "text"
      },
      "source": [
        "\n",
        "### Sagittal ACL"
      ]
    },
    {
      "cell_type": "code",
      "metadata": {
        "id": "BRbeK7QQ5o4b",
        "colab_type": "code",
        "colab": {}
      },
      "source": [
        "contrast_cnn = getCNN()\n",
        "processing.train_extractor(contrast_cnn, processing.inception, processing.sagittal, processing.acl)"
      ],
      "execution_count": 0,
      "outputs": []
    },
    {
      "cell_type": "markdown",
      "metadata": {
        "id": "jZkMt5bI5pb4",
        "colab_type": "text"
      },
      "source": [
        "\n",
        "### Sagittal Meniscal"
      ]
    },
    {
      "cell_type": "code",
      "metadata": {
        "id": "yEPJcME45rK0",
        "colab_type": "code",
        "colab": {}
      },
      "source": [
        "contrast_cnn = getCNN()\n",
        "processing.train_extractor(contrast_cnn, processing.inception, processing.sagittal, processing.meniscal)"
      ],
      "execution_count": 0,
      "outputs": []
    },
    {
      "cell_type": "markdown",
      "metadata": {
        "id": "k5lrU3k37N03",
        "colab_type": "text"
      },
      "source": [
        "### Axial Abnormal"
      ]
    },
    {
      "cell_type": "code",
      "metadata": {
        "id": "speGmNL17OVH",
        "colab_type": "code",
        "colab": {}
      },
      "source": [
        "contrast_cnn = getCNN()\n",
        "processing.train_extractor(contrast_cnn, processing.inception, processing.axial, processing.abnormal)"
      ],
      "execution_count": 0,
      "outputs": []
    },
    {
      "cell_type": "markdown",
      "metadata": {
        "id": "4kS6grGC7Owl",
        "colab_type": "text"
      },
      "source": [
        "### Axial ACL"
      ]
    },
    {
      "cell_type": "code",
      "metadata": {
        "id": "j2_-N88Q7PJX",
        "colab_type": "code",
        "colab": {}
      },
      "source": [
        "contrast_cnn = getCNN()\n",
        "processing.train_extractor(contrast_cnn, processing.inception, processing.axial, processing.acl)"
      ],
      "execution_count": 0,
      "outputs": []
    },
    {
      "cell_type": "markdown",
      "metadata": {
        "id": "-fhFjppu7Pdc",
        "colab_type": "text"
      },
      "source": [
        "### Axial Meniscal"
      ]
    },
    {
      "cell_type": "code",
      "metadata": {
        "id": "jbb3isUP7P2H",
        "colab_type": "code",
        "colab": {}
      },
      "source": [
        "contrast_cnn = getCNN()\n",
        "processing.train_extractor(contrast_cnn, processing.inception, processing.axial, processing.meniscal)"
      ],
      "execution_count": 0,
      "outputs": []
    },
    {
      "cell_type": "markdown",
      "metadata": {
        "id": "xEMl_KD67jUP",
        "colab_type": "text"
      },
      "source": [
        "### Coronal Abnormal"
      ]
    },
    {
      "cell_type": "code",
      "metadata": {
        "id": "yOpOJQOU7jt6",
        "colab_type": "code",
        "colab": {}
      },
      "source": [
        "contrast_cnn = getCNN()\n",
        "processing.train_extractor(contrast_cnn, processing.inception, processing.coronal, processing.abnormal)"
      ],
      "execution_count": 0,
      "outputs": []
    },
    {
      "cell_type": "markdown",
      "metadata": {
        "id": "HgiZNm9v7kDV",
        "colab_type": "text"
      },
      "source": [
        "### Coronal ACL"
      ]
    },
    {
      "cell_type": "code",
      "metadata": {
        "id": "5Q5SZii97kzr",
        "colab_type": "code",
        "colab": {}
      },
      "source": [
        "contrast_cnn = getCNN()\n",
        "processing.train_extractor(contrast_cnn, processing.inception, processing.coronal, processing.acl)"
      ],
      "execution_count": 0,
      "outputs": []
    },
    {
      "cell_type": "markdown",
      "metadata": {
        "id": "PlgOVsgC7lIz",
        "colab_type": "text"
      },
      "source": [
        "### Coronal Meniscal"
      ]
    },
    {
      "cell_type": "code",
      "metadata": {
        "id": "cP_2tSFM7lle",
        "colab_type": "code",
        "colab": {}
      },
      "source": [
        "contrast_cnn = getCNN()\n",
        "processing.train_extractor(contrast_cnn, processing.inception, processing.coronal, processing.meniscal)"
      ],
      "execution_count": 0,
      "outputs": []
    },
    {
      "cell_type": "markdown",
      "metadata": {
        "colab_type": "text",
        "id": "ypuY1bqz8DCm"
      },
      "source": [
        "# Train Classifiers"
      ]
    },
    {
      "cell_type": "code",
      "metadata": {
        "id": "pm-evAc88uEv",
        "colab_type": "code",
        "colab": {}
      },
      "source": [
        "def classifier():\n",
        "  classifier = Sequential()\n",
        "  classifier.add(Dense(1024)\n",
        "  classifier.add(BatchNormalization(axis=1)\n",
        "  classifier.add(Activation('relu'))\n",
        "  classifier.add(Dense(1))\n",
        "  classifier.add(Activation('sigmoid'))\n",
        "  classifier.compile(loss='binary_crossentropy', optimizer=optimizers.Adam(1e-5), metrics=['acc'])\n",
        "  return classifier"
      ],
      "execution_count": 0,
      "outputs": []
    },
    {
      "cell_type": "markdown",
      "metadata": {
        "colab_type": "text",
        "id": "u6xncNL38DC4"
      },
      "source": [
        "\n",
        "### Sagittal Abnormal"
      ]
    },
    {
      "cell_type": "code",
      "metadata": {
        "colab_type": "code",
        "id": "3EBilMa08DC-",
        "colab": {}
      },
      "source": [
        "loaded_model = processing.load_model(processing.inception, processing.sagittal, processing.abnormal, processing.extractor)\n",
        "extractor_model = Model(inputs=loaded_model.input, outputs=loaded_model.get_layer('block5_2').output)\n",
        "extractor_model.summary()\n",
        "#making classifier\n",
        "classifier_model = classifier()\n",
        "#train classifier\n",
        "processing.train_classifier(extractor_model, classifier_model, processing.inception, processing.sagittal, processing.abnormal)"
      ],
      "execution_count": 0,
      "outputs": []
    },
    {
      "cell_type": "markdown",
      "metadata": {
        "colab_type": "text",
        "id": "BYLGa6018DDa"
      },
      "source": [
        "\n",
        "### Sagittal ACL"
      ]
    },
    {
      "cell_type": "code",
      "metadata": {
        "colab_type": "code",
        "id": "sP6CeHDr8DDr",
        "colab": {}
      },
      "source": [
        "contrast_cnn = getCNN()\n",
        "processing.train_extractor(contrast_cnn, processing.inception, processing.sagittal, processing.acl)"
      ],
      "execution_count": 0,
      "outputs": []
    },
    {
      "cell_type": "markdown",
      "metadata": {
        "colab_type": "text",
        "id": "c_m0TGxe8DEJ"
      },
      "source": [
        "\n",
        "### Sagittal Meniscal"
      ]
    },
    {
      "cell_type": "code",
      "metadata": {
        "colab_type": "code",
        "id": "RSGmR9Be8DEN",
        "colab": {}
      },
      "source": [
        "contrast_cnn = getCNN()\n",
        "processing.train_extractor(contrast_cnn, processing.inception, processing.sagittal, processing.meniscal)"
      ],
      "execution_count": 0,
      "outputs": []
    },
    {
      "cell_type": "markdown",
      "metadata": {
        "colab_type": "text",
        "id": "XlcwxQP18DEs"
      },
      "source": [
        "### Axial Abnormal"
      ]
    },
    {
      "cell_type": "code",
      "metadata": {
        "colab_type": "code",
        "id": "wkieGWrS8DEy",
        "colab": {}
      },
      "source": [
        "contrast_cnn = getCNN()\n",
        "processing.train_extractor(contrast_cnn, processing.inception, processing.axial, processing.abnormal)"
      ],
      "execution_count": 0,
      "outputs": []
    },
    {
      "cell_type": "markdown",
      "metadata": {
        "colab_type": "text",
        "id": "38f-xq4v8DFJ"
      },
      "source": [
        "### Axial ACL"
      ]
    },
    {
      "cell_type": "code",
      "metadata": {
        "colab_type": "code",
        "id": "WlF1hq4L8DFN",
        "colab": {}
      },
      "source": [
        "contrast_cnn = getCNN()\n",
        "processing.train_extractor(contrast_cnn, processing.inception, processing.axial, processing.acl)"
      ],
      "execution_count": 0,
      "outputs": []
    },
    {
      "cell_type": "markdown",
      "metadata": {
        "colab_type": "text",
        "id": "VrUcVQmz8DGJ"
      },
      "source": [
        "### Axial Meniscal"
      ]
    },
    {
      "cell_type": "code",
      "metadata": {
        "colab_type": "code",
        "id": "OHsIPs1M8DGM",
        "colab": {}
      },
      "source": [
        "contrast_cnn = getCNN()\n",
        "processing.train_extractor(contrast_cnn, processing.inception, processing.axial, processing.meniscal)"
      ],
      "execution_count": 0,
      "outputs": []
    },
    {
      "cell_type": "markdown",
      "metadata": {
        "colab_type": "text",
        "id": "LbZRSncu8DGp"
      },
      "source": [
        "### Coronal Abnormal"
      ]
    },
    {
      "cell_type": "code",
      "metadata": {
        "colab_type": "code",
        "id": "7VRBbYyA8DG-",
        "colab": {}
      },
      "source": [
        "contrast_cnn = getCNN()\n",
        "processing.train_extractor(contrast_cnn, processing.inception, processing.coronal, processing.abnormal)"
      ],
      "execution_count": 0,
      "outputs": []
    },
    {
      "cell_type": "markdown",
      "metadata": {
        "colab_type": "text",
        "id": "3o3bd5_l8DHo"
      },
      "source": [
        "### Coronal ACL"
      ]
    },
    {
      "cell_type": "code",
      "metadata": {
        "colab_type": "code",
        "id": "e0i_5dmB8DHr",
        "colab": {}
      },
      "source": [
        "contrast_cnn = getCNN()\n",
        "processing.train_extractor(contrast_cnn, processing.inception, processing.coronal, processing.acl)"
      ],
      "execution_count": 0,
      "outputs": []
    },
    {
      "cell_type": "markdown",
      "metadata": {
        "colab_type": "text",
        "id": "YxYWbFCl8DIQ"
      },
      "source": [
        "### Coronal Meniscal"
      ]
    },
    {
      "cell_type": "code",
      "metadata": {
        "colab_type": "code",
        "id": "QBX5rWRt8DIU",
        "colab": {}
      },
      "source": [
        "contrast_cnn = getCNN()\n",
        "processing.train_extractor(contrast_cnn, processing.inception, processing.coronal, processing.meniscal)"
      ],
      "execution_count": 0,
      "outputs": []
    }
  ]
}