{
  "nbformat": 4,
  "nbformat_minor": 0,
  "metadata": {
    "colab": {
      "name": "inception_v3.ipynb",
      "provenance": [],
      "collapsed_sections": [],
      "include_colab_link": true
    },
    "kernelspec": {
      "name": "python3",
      "display_name": "Python 3"
    },
    "accelerator": "GPU"
  },
  "cells": [
    {
      "cell_type": "markdown",
      "metadata": {
        "id": "view-in-github",
        "colab_type": "text"
      },
      "source": [
        "<a href=\"https://colab.research.google.com/github/Jamaleldin/MRNET-for-Knee-Diagnosis/blob/Model_inception/inception_v3.ipynb\" target=\"_parent\"><img src=\"https://colab.research.google.com/assets/colab-badge.svg\" alt=\"Open In Colab\"/></a>"
      ]
    },
    {
      "cell_type": "markdown",
      "metadata": {
        "id": "efN9L3GyfNHt",
        "colab_type": "text"
      },
      "source": [
        "# Needed Imports for the Inception Module"
      ]
    },
    {
      "cell_type": "code",
      "metadata": {
        "id": "_mwxkDTLfcQU",
        "colab_type": "code",
        "colab": {}
      },
      "source": [
        "import tensorflow as tf\n",
        "from tensorflow import keras\n",
        "from tensorflow.keras.models import Model\n",
        "from tensorflow.keras.layers import Input\n",
        "from tensorflow.keras.layers import Conv2D\n",
        "from tensorflow.keras.layers import MaxPooling2D\n",
        "from tensorflow.keras.layers import AveragePooling2D\n",
        "from tensorflow.keras.layers import Flatten\n",
        "from tensorflow.keras.layers import Dense\n",
        "from tensorflow.keras.layers import concatenate\n",
        "from tensorflow.keras.layers import Dropout\n",
        "from tensorflow.keras.utils import plot_model\n",
        "from tensorflow.keras import optimizers\n",
        "import numpy as np"
      ],
      "execution_count": 0,
      "outputs": []
    },
    {
      "cell_type": "markdown",
      "metadata": {
        "id": "Gc8VXB0LfiuP",
        "colab_type": "text"
      },
      "source": [
        "# Functions to create Inception Blocks"
      ]
    },
    {
      "cell_type": "markdown",
      "metadata": {
        "id": "noBbxo4KhD2y",
        "colab_type": "text"
      },
      "source": [
        "## There is five different kinds of blocks"
      ]
    },
    {
      "cell_type": "code",
      "metadata": {
        "id": "AtwK4k7uf3P0",
        "colab_type": "code",
        "colab": {}
      },
      "source": [
        "# 1x1 convolution layers used for dimensionality reduction before applying layers\n",
        "def inception_block1(layer_in, f1, f2_in, f2_out, f3_in, f3_out, f4_out, name):\n",
        "  branch1 = Conv2D(f1, (1,1), padding='same', activation='relu')(layer_in) #depth=64,64,64\n",
        "\n",
        "  branch2 = Conv2D(f2_in, (1,1), padding='same', activation='relu')(layer_in) #depth=48,48,48\n",
        "  branch2 = Conv2D(f2_out, (5,5), padding='same', activation='relu')(branch2) #depth=64,64,64\n",
        "\n",
        "  branch3 = Conv2D(f3_in, (1,1), padding='same', activation='relu')(layer_in) #depth=64,64,64\n",
        "  branch3 = Conv2D(f3_out, (3,3), padding='same', activation='relu')(branch3) #depth=96,96,96\n",
        "  branch3 = Conv2D(f3_out, (3,3), padding='same', activation='relu')(branch3) #depth=96,96,96\n",
        " \t# avg pooling layer performs down-sampling by dividing the input into rectangular pooling regions and computing the average values of each region.\n",
        "  branch4 = AveragePooling2D((3,3), strides=(1,1), padding='same')(layer_in)\n",
        "  branch4 = Conv2D(f4_out, (1,1), padding='same', activation='relu')(branch4) #depth=32,64,64\n",
        "\t# concatenate filters\n",
        "  layer_out = concatenate([branch1, branch2, branch3, branch4], axis=3, name=name)\n",
        "  return layer_out"
      ],
      "execution_count": 0,
      "outputs": []
    },
    {
      "cell_type": "code",
      "metadata": {
        "id": "0seQDYDQf6KE",
        "colab_type": "code",
        "colab": {}
      },
      "source": [
        "# 1x1 convolution layers used for dimensionality reduction before applying layers\n",
        "def inception_block2(layer_in, f1, f2_in, f2_out, name):\n",
        "  branch1 = Conv2D(f1, (3,3), padding='valid', strides=(2, 2), activation='relu')(layer_in) #depth=384\n",
        "\n",
        "  branch2 = Conv2D(f2_in, (1,1), padding='same', activation='relu')(layer_in) #depth=64\n",
        "  branch2 = Conv2D(f2_out, (3,3), padding='same', activation='relu')(branch2) #depth=96\n",
        "  branch2 = Conv2D(f2_out, (3,3), padding='valid', strides=(2, 2), activation='relu')(branch2) #depth=96\n",
        " \t# max pooling used to provide more options to the inception layer\n",
        "  branch3 = MaxPooling2D((3,3), strides=(2,2), padding='valid')(layer_in)\n",
        "\t# concatenate filters\n",
        "  layer_out = concatenate([branch1, branch2, branch3], axis=3, name=name)\n",
        "  return layer_out"
      ],
      "execution_count": 0,
      "outputs": []
    },
    {
      "cell_type": "code",
      "metadata": {
        "id": "6g62NqF_f7_y",
        "colab_type": "code",
        "colab": {}
      },
      "source": [
        "# 1x1 convolution layers used for dimensionality reduction before applying layers\n",
        "def inception_block3(layer_in, f1, f2_in, f2_out, f3_in, f3_out, f4_out, name):\n",
        "  branch1 = Conv2D(f1, (1,1), padding='same', activation='relu')(layer_in) #depth=192,192,192,192\n",
        "\n",
        "  branch2 = Conv2D(f2_in, (1,1), padding='same', activation='relu')(layer_in) #depth=128,160,160,192\n",
        "  branch2 = Conv2D(f2_in, (1,7), padding='same', activation='relu')(branch2) #depth=128,160,160,192\n",
        "  branch2 = Conv2D(f2_out, (7,1), padding='same', activation='relu')(branch2) #depth=192,192,192,192\n",
        "\n",
        "  branch3 = Conv2D(f3_in, (1,1), padding='same', activation='relu')(layer_in) #depth=128,160,160,192\n",
        "  branch3 = Conv2D(f3_in, (7,1), padding='same', activation='relu')(branch3) #depth=128,160,160,192\n",
        "  branch3 = Conv2D(f3_in, (1,7), padding='same', activation='relu')(branch3) #depth=128,160,160,192\n",
        "  branch3 = Conv2D(f3_in, (7,1), padding='same', activation='relu')(branch3) #depth=128,160,160,192\n",
        "  branch3 = Conv2D(f3_out, (1,7), padding='same', activation='relu')(branch3) #depth=192,192,192,192\n",
        " \t# avg pooling layer performs down-sampling by dividing the input into rectangular pooling regions and computing the average values of each region.\n",
        "  branch4 = AveragePooling2D((3,3), strides=(1,1), padding='same')(layer_in)\n",
        "  branch4 = Conv2D(f4_out, (1,1), padding='same', activation='relu')(branch4) #depth=192,192,192,192\n",
        "\t# concatenate filters\n",
        "  layer_out = concatenate([branch1, branch2, branch3, branch4], axis=3, name=name)\n",
        "  return layer_out"
      ],
      "execution_count": 0,
      "outputs": []
    },
    {
      "cell_type": "code",
      "metadata": {
        "id": "e9bdDHyKgCHt",
        "colab_type": "code",
        "colab": {}
      },
      "source": [
        "# 1x1 convolution layers used for dimensionality reduction before applying layers\n",
        "def inception_block4(layer_in, f1_in, f1_out, f2, name):\n",
        "  branch1 = Conv2D(f1_in, (1,1), padding='same', activation='relu')(layer_in) #depth=192\n",
        "  branch1 = Conv2D(f1_out, (3,3), padding='valid', strides=(2, 2), activation='relu')(branch1) #depth=320\n",
        "\n",
        "  branch2 = Conv2D(f2, (1,1), padding='same', activation='relu')(layer_in) #depth=192\n",
        "  branch2 = Conv2D(f2, (1,7), padding='same', activation='relu')(branch2) #depth=192\n",
        "  branch2 = Conv2D(f2, (7,1), padding='same', activation='relu')(branch2) #depth=192\n",
        "  branch2 = Conv2D(f2, (3,3), padding='valid', strides=(2, 2), activation='relu')(branch2) #depth=192\n",
        " \t# max pooling used to provide more options to the inception layer\n",
        "  branch3 = MaxPooling2D((3,3), strides=(2,2), padding='valid')(layer_in)\n",
        "\t# concatenate filters\n",
        "  layer_out = concatenate([branch1, branch2, branch3], axis=3, name=name)\n",
        "  return layer_out"
      ],
      "execution_count": 0,
      "outputs": []
    },
    {
      "cell_type": "code",
      "metadata": {
        "id": "XSNjj463gEZE",
        "colab_type": "code",
        "colab": {}
      },
      "source": [
        "# 1x1 convolution layers used for dimensionality reduction before applying layers\n",
        "def inception_block5(layer_in, f1, f2, f3_in, f3_out, f4_out, name):\n",
        "  branch1 = Conv2D(f1, (1,1), padding='same', activation='relu')(layer_in) #depth=320\n",
        "\n",
        "  branch2 = Conv2D(f2, (1,1), padding='same', activation='relu')(layer_in) #depth=384\n",
        "  branch2 = concatenate([Conv2D(f2, (1,3), padding='same', activation='relu')(branch2),\n",
        "\t                       Conv2D(f2, (3,1), padding='same', activation='relu')(branch2)], axis=3)\n",
        "\n",
        "  branch3 = Conv2D(f3_in, (1,1), padding='same', activation='relu')(layer_in) #depth=448\n",
        "  branch3 = Conv2D(f3_out, (3,3), padding='same', activation='relu')(branch3) #depth=384\n",
        "  branch3 = concatenate([Conv2D(f3_out, (1,3), padding='same', activation='relu')(branch3),\n",
        "\t                       Conv2D(f3_out, (3,1), padding='same', activation='relu')(branch3)], axis=3)\n",
        " \t# avg pooling layer performs down-sampling by dividing the input into rectangular pooling regions and computing the average values of each region.\n",
        "  branch4 = AveragePooling2D((3,3), strides=(1,1), padding='same')(layer_in)\n",
        "  branch4 = Conv2D(f4_out, (1,1), padding='same', activation='relu')(branch4) #depth=192\n",
        "\t# concatenate filters\n",
        "  layer_out = concatenate([branch1, branch2, branch3, branch4], axis=3, name=name)\n",
        "  return layer_out"
      ],
      "execution_count": 0,
      "outputs": []
    },
    {
      "cell_type": "markdown",
      "metadata": {
        "id": "m72v3tdDgIqO",
        "colab_type": "text"
      },
      "source": [
        "# Creating the Module"
      ]
    },
    {
      "cell_type": "code",
      "metadata": {
        "id": "SNL8lk-hgNJz",
        "colab_type": "code",
        "colab": {}
      },
      "source": [
        "# the first layers in the inception module\n",
        "input_layer = Input(shape=(256, 256, 3))\n",
        "\n",
        "x = Conv2D(32, (3, 3), padding='same', strides=(2, 2), activation='relu', name='conv_1_3x3/2')(input_layer)\n",
        "\n",
        "x = Conv2D(32, (3, 3), padding='same', strides=(1, 1), activation='relu', name='conv_2_3x3/1')(x)\n",
        "x = Conv2D(64, (3, 3), padding='same', strides=(1, 1), activation='relu', name='conv_3_3x3/1')(x)\n",
        "# Max pooling selects the maximum element from the region of the feature map covered by the filter. \n",
        "# Thus, the output after max-pooling layer would be a feature map containing the most prominent features of the previous feature map.\n",
        "x = MaxPooling2D((3, 3), padding='same', strides=(2, 2), name='max_pool_1_3x3/2')(x)\n",
        "x = Conv2D(80, (1, 1), padding='same', strides=(1, 1), activation='relu', name='conv_4_1x1/1')(x)\n",
        "\n",
        "x = Conv2D(192, (3, 3), padding='same', strides=(1, 1), activation='relu', name='conv_5_3x3/1')(x)\n",
        "x = MaxPooling2D((3, 3), padding='same', strides=(2, 2), name='max_pool_2_3x3/2')(x)"
      ],
      "execution_count": 0,
      "outputs": []
    },
    {
      "cell_type": "code",
      "metadata": {
        "id": "kbfSUYo-gaNT",
        "colab_type": "code",
        "colab": {}
      },
      "source": [
        "# starting to put the inception layers (11 blocks)\n",
        "x = inception_block1(x, 64, 48, 64, 64, 96, 32, 'blck1_1')\n",
        "x = inception_block1(x, 64, 48, 64, 64, 96, 64, 'block1_2')\n",
        "x = inception_block1(x, 64, 48, 64, 64, 96, 64, 'block1_3')\n",
        "\n",
        "x = inception_block2(x, 384, 64, 96, 'block2')\n",
        "\n",
        "x = inception_block3(x, 192, 128, 192, 128, 192, 192, 'block3_1')\n",
        "x = inception_block3(x, 192, 160, 192, 160, 192, 192, 'block3_2')\n",
        "x = inception_block3(x, 192, 160, 192, 160, 192, 192, 'block3_3')\n",
        "x = inception_block3(x, 192, 192, 192, 192, 192, 192, 'block3_4')"
      ],
      "execution_count": 0,
      "outputs": []
    },
    {
      "cell_type": "code",
      "metadata": {
        "id": "63Dl50POgeUh",
        "colab_type": "code",
        "colab": {}
      },
      "source": [
        "# auxiliary logits branch to overcome the vanishing gradient problem\n",
        "x1 = AveragePooling2D((5, 5), padding='valid', strides=3)(x)\n",
        "x1 = Conv2D(128, (1, 1), padding='same', activation='relu')(x1)\n",
        "x1 = Conv2D(768, (min(x1.shape[1],5), min(x1.shape[2],5)), padding='valid', activation='relu')(x1)\n",
        "# flatten takes the output of the previous layers, “flattens” them and turns them into a single vector that can be an input for the next stage.#\n",
        "x1 = Flatten()(x1)\n",
        "x1 = Dense(1024, activation='relu')(x1)\n",
        "x1 = Dense(1, activation='sigmoid', name='auxilliary_output_1')(x1)"
      ],
      "execution_count": 0,
      "outputs": []
    },
    {
      "cell_type": "code",
      "metadata": {
        "id": "mlJT5F40gtfD",
        "colab_type": "code",
        "colab": {}
      },
      "source": [
        "x = inception_block4(x, 192, 320, 192, name='block4')\n",
        "# last two inception layers\n",
        "x = inception_block5(x, 320, 384, 448, 384, 192, 'block5_1')\n",
        "x = inception_block5(x, 320, 384, 448, 384, 192, 'block5_2')\n",
        "x = AveragePooling2D((min(x.shape[1],7), min(x.shape[2],7)), padding='valid')(x)\n",
        "x = Flatten()(x)\n",
        "x = Dropout(0.5)(x)\n",
        "x = Dense(1024, activation='relu')(x)\n",
        "x = Dense(1, activation='sigmoid', name='output_prediction')(x)"
      ],
      "execution_count": 0,
      "outputs": []
    },
    {
      "cell_type": "code",
      "metadata": {
        "id": "sp47wMAaJ9LR",
        "colab_type": "code",
        "colab": {}
      },
      "source": [
        "# create model\n",
        "model2 = Model(inputs=input_layer, outputs=x)\n",
        "# summarize model\n",
        "model2.summary()\n",
        "# plot model architecture\n",
        "plot_model(model2, show_shapes=True, to_file='inception_module.png')\n",
        "model2.compile(loss='binary_crossentropy', optimizer=optimizers.Adam(1e-5), metrics=['acc'])"
      ],
      "execution_count": 0,
      "outputs": []
    },
    {
      "cell_type": "markdown",
      "metadata": {
        "id": "ma7OdqUUY_Wz",
        "colab_type": "text"
      },
      "source": [
        "# Initializing drive and imports for training"
      ]
    },
    {
      "cell_type": "code",
      "metadata": {
        "id": "Txk_ZKto1NB3",
        "colab_type": "code",
        "outputId": "6fa44ee2-63a4-46ab-98f2-4ef268fe7aff",
        "colab": {
          "base_uri": "https://localhost:8080/",
          "height": 129
        }
      },
      "source": [
        "from google.colab import drive\n",
        "drive.mount('/content/drive/')"
      ],
      "execution_count": 12,
      "outputs": [
        {
          "output_type": "stream",
          "text": [
            "Go to this URL in a browser: https://accounts.google.com/o/oauth2/auth?client_id=947318989803-6bn6qk8qdgf4n4g3pfee6491hc0brc4i.apps.googleusercontent.com&redirect_uri=urn%3aietf%3awg%3aoauth%3a2.0%3aoob&response_type=code&scope=email%20https%3a%2f%2fwww.googleapis.com%2fauth%2fdocs.test%20https%3a%2f%2fwww.googleapis.com%2fauth%2fdrive%20https%3a%2f%2fwww.googleapis.com%2fauth%2fdrive.photos.readonly%20https%3a%2f%2fwww.googleapis.com%2fauth%2fpeopleapi.readonly\n",
            "\n",
            "Enter your authorization code:\n",
            "··········\n",
            "Mounted at /content/drive/\n"
          ],
          "name": "stdout"
        }
      ]
    },
    {
      "cell_type": "code",
      "metadata": {
        "id": "8nBBOCOR1RDb",
        "colab_type": "code",
        "outputId": "15d9c308-4e03-4bc9-ded0-06ad6095f873",
        "colab": {
          "base_uri": "https://localhost:8080/",
          "height": 222
        }
      },
      "source": [
        "%cd '/content/drive/My Drive/Colab Notebooks'\n",
        "!pip install import-ipynb"
      ],
      "execution_count": 13,
      "outputs": [
        {
          "output_type": "stream",
          "text": [
            "/content/drive/My Drive/Colab Notebooks\n",
            "Collecting import-ipynb\n",
            "  Downloading https://files.pythonhosted.org/packages/63/35/495e0021bfdcc924c7cdec4e9fbb87c88dd03b9b9b22419444dc370c8a45/import-ipynb-0.1.3.tar.gz\n",
            "Building wheels for collected packages: import-ipynb\n",
            "  Building wheel for import-ipynb (setup.py) ... \u001b[?25l\u001b[?25hdone\n",
            "  Created wheel for import-ipynb: filename=import_ipynb-0.1.3-cp36-none-any.whl size=2976 sha256=4030f02abd0e80d84d8174deeb3867f4ee33aa2d325ba46dc56525a47567171d\n",
            "  Stored in directory: /root/.cache/pip/wheels/b4/7b/e9/a3a6e496115dffdb4e3085d0ae39ffe8a814eacc44bbf494b5\n",
            "Successfully built import-ipynb\n",
            "Installing collected packages: import-ipynb\n",
            "Successfully installed import-ipynb-0.1.3\n"
          ],
          "name": "stdout"
        }
      ]
    },
    {
      "cell_type": "code",
      "metadata": {
        "id": "9e4DMZ8T1WpK",
        "colab_type": "code",
        "outputId": "9dc55b13-e230-4ff9-d722-f0c1e91d2068",
        "colab": {
          "base_uri": "https://localhost:8080/",
          "height": 111
        }
      },
      "source": [
        "import import_ipynb\n",
        "import MRNet_models_processing as processing"
      ],
      "execution_count": 14,
      "outputs": [
        {
          "output_type": "stream",
          "text": [
            "importing Jupyter notebook from MRNet_models_processing.ipynb\n"
          ],
          "name": "stdout"
        },
        {
          "output_type": "stream",
          "text": [
            "Using TensorFlow backend.\n"
          ],
          "name": "stderr"
        },
        {
          "output_type": "stream",
          "text": [
            "Drive already mounted at /content/drive/; to attempt to forcibly remount, call drive.mount(\"/content/drive/\", force_remount=True).\n",
            "unzip:  cannot find or open /content/drive/My Drive/MRNET data set/MRNet-v1.0.zip, /content/drive/My Drive/MRNET data set/MRNet-v1.0.zip.zip or /content/drive/My Drive/MRNET data set/MRNet-v1.0.zip.ZIP.\n"
          ],
          "name": "stdout"
        }
      ]
    },
    {
      "cell_type": "markdown",
      "metadata": {
        "id": "Scyq6jmRfK44",
        "colab_type": "text"
      },
      "source": [
        "# Training Extractors"
      ]
    },
    {
      "cell_type": "code",
      "metadata": {
        "id": "atfcAyAg1aeD",
        "colab_type": "code",
        "colab": {}
      },
      "source": [
        "# Extractor Training for Sagittal Abnormal\n",
        "processing.train_extractor(model2, processing.inception, processing.sagittal, processing.abnormal)"
      ],
      "execution_count": 0,
      "outputs": []
    },
    {
      "cell_type": "code",
      "metadata": {
        "id": "4DJsLrilpCZ7",
        "colab_type": "code",
        "colab": {}
      },
      "source": [
        "# Extractor Training for Sagittal ACL\n",
        "processing.train_extractor(model2, processing.inception, processing.sagittal, processing.acl)"
      ],
      "execution_count": 0,
      "outputs": []
    },
    {
      "cell_type": "code",
      "metadata": {
        "id": "9XJu3741pRFi",
        "colab_type": "code",
        "colab": {}
      },
      "source": [
        "# Extractor Training for Sagittal Meniscal\n",
        "processing.train_extractor(model2, processing.inception, processing.sagittal, processing.meniscal)"
      ],
      "execution_count": 0,
      "outputs": []
    },
    {
      "cell_type": "code",
      "metadata": {
        "id": "SLvMMcnSpSDv",
        "colab_type": "code",
        "colab": {}
      },
      "source": [
        "# Extractor Training for Axial Abnormal\n",
        "processing.train_extractor(model2, processing.inception, processing.axial, processing.abnormal)"
      ],
      "execution_count": 0,
      "outputs": []
    },
    {
      "cell_type": "code",
      "metadata": {
        "id": "7xL1UgtopSNg",
        "colab_type": "code",
        "colab": {}
      },
      "source": [
        "# Extractor Training for Axial ACL\n",
        "processing.train_extractor(model2, processing.inception, processing.axial, processing.acl)"
      ],
      "execution_count": 0,
      "outputs": []
    },
    {
      "cell_type": "code",
      "metadata": {
        "id": "x5XJVlUapSWu",
        "colab_type": "code",
        "colab": {}
      },
      "source": [
        "# Extractor Training for Axial Meniscal\n",
        "processing.train_extractor(model2, processing.inception, processing.axial, processing.meniscal)"
      ],
      "execution_count": 0,
      "outputs": []
    },
    {
      "cell_type": "code",
      "metadata": {
        "id": "LM5EydNtpSfw",
        "colab_type": "code",
        "colab": {}
      },
      "source": [
        "# Extractor Training for Coronal Abnormal\n",
        "processing.train_extractor(model2, processing.inception, processing.coronal, processing.abnormal)"
      ],
      "execution_count": 0,
      "outputs": []
    },
    {
      "cell_type": "code",
      "metadata": {
        "id": "U5ofMzKppSoe",
        "colab_type": "code",
        "colab": {}
      },
      "source": [
        "# Extractor Training for Coronal ACL\n",
        "processing.train_extractor(model2, processing.inception, processing.coronal, processing.acl)"
      ],
      "execution_count": 0,
      "outputs": []
    },
    {
      "cell_type": "code",
      "metadata": {
        "id": "FUHZ-LMKpSyQ",
        "colab_type": "code",
        "colab": {}
      },
      "source": [
        "# Extractor Training for Coronal Meniscal\n",
        "processing.train_extractor(model2, processing.inception, processing.coronal, processing.meniscal)"
      ],
      "execution_count": 0,
      "outputs": []
    },
    {
      "cell_type": "markdown",
      "metadata": {
        "id": "ggAorVEsfWP9",
        "colab_type": "text"
      },
      "source": [
        "# Training Classifier"
      ]
    },
    {
      "cell_type": "code",
      "metadata": {
        "id": "YiWk79N8q2Ea",
        "colab_type": "code",
        "colab": {}
      },
      "source": [
        "# Function to create the binary classifier model for training\n",
        "def classifier():\n",
        "  classifier = tf.keras.Sequential()\n",
        "  classifier.add(Dense(1024, activation='relu', input_dim=2048))\n",
        "  classifier.add(Dense(1, activation='sigmoid'))\n",
        "  classifier.compile(loss='binary_crossentropy', optimizer=optimizers.Adam(1e-5), metrics=['acc'])\n",
        "  return classifier"
      ],
      "execution_count": 0,
      "outputs": []
    },
    {
      "cell_type": "markdown",
      "metadata": {
        "id": "U6uj2-2Wgtua",
        "colab_type": "text"
      },
      "source": [
        "## Sagittal Abnormal"
      ]
    },
    {
      "cell_type": "code",
      "metadata": {
        "id": "YvIH3GNrNxqa",
        "colab_type": "code",
        "colab": {}
      },
      "source": [
        "#loading model to train classifier\n",
        "loaded_sagittal_abnormal = processing.load_model(processing.inception, processing.sagittal, processing.abnormal, processing.extractor)"
      ],
      "execution_count": 0,
      "outputs": []
    },
    {
      "cell_type": "code",
      "metadata": {
        "id": "if4iKfUWXT9j",
        "colab_type": "code",
        "colab": {}
      },
      "source": [
        "extractor_saggittal_abnormal = Model(inputs=loaded_sagittal_abnormal.input, outputs=loaded_sagittal_abnormal.get_layer('block5_2').output)\n",
        "extractor_saggittal_abnormal.summary()"
      ],
      "execution_count": 0,
      "outputs": []
    },
    {
      "cell_type": "code",
      "metadata": {
        "id": "np9R-tM6dccx",
        "colab_type": "code",
        "colab": {}
      },
      "source": [
        "#making classifier\n",
        "classifier_model_saggittal_abnormal = classifier()"
      ],
      "execution_count": 0,
      "outputs": []
    },
    {
      "cell_type": "code",
      "metadata": {
        "id": "MKgTwehOfiEx",
        "colab_type": "code",
        "colab": {}
      },
      "source": [
        "#train classifire\n",
        "processing.train_classifier(extractor_saggittal_abnormal, classifier_model_saggittal_abnormal, processing.inception, processing.sagittal, processing.abnormal)"
      ],
      "execution_count": 0,
      "outputs": []
    },
    {
      "cell_type": "markdown",
      "metadata": {
        "id": "6273XrTvg27k",
        "colab_type": "text"
      },
      "source": [
        "## Coronal Abnormal"
      ]
    },
    {
      "cell_type": "code",
      "metadata": {
        "id": "s7dOwhf5fr6q",
        "colab_type": "code",
        "colab": {}
      },
      "source": [
        "#loading model to train classifier\n",
        "loaded_coronal_abnormal = processing.load_model(processing.inception, processing.coronal, processing.abnormal, processing.extractor)"
      ],
      "execution_count": 0,
      "outputs": []
    },
    {
      "cell_type": "code",
      "metadata": {
        "id": "G9irfXTmgAMz",
        "colab_type": "code",
        "colab": {}
      },
      "source": [
        "extractor_coronal_abnormal = Model(inputs=loaded_coronal_abnormal.input, outputs=loaded_coronal_abnormal.get_layer('block5_2').output)\n",
        "extractor_coronal_abnormal.summary()"
      ],
      "execution_count": 0,
      "outputs": []
    },
    {
      "cell_type": "code",
      "metadata": {
        "id": "l5PkMaWFgNwV",
        "colab_type": "code",
        "colab": {}
      },
      "source": [
        "#making classifier\n",
        "classifier_model_coronal_abnormal = classifier()"
      ],
      "execution_count": 0,
      "outputs": []
    },
    {
      "cell_type": "code",
      "metadata": {
        "id": "Z5MzCKOigiR6",
        "colab_type": "code",
        "colab": {}
      },
      "source": [
        "#train classifire\n",
        "processing.train_classifier(extractor_coronal_abnormal, classifier_model_coronal_abnormal, processing.inception, processing.coronal, processing.abnormal)"
      ],
      "execution_count": 0,
      "outputs": []
    },
    {
      "cell_type": "markdown",
      "metadata": {
        "id": "biaufAX2p77m",
        "colab_type": "text"
      },
      "source": [
        "## Coronal ACL"
      ]
    },
    {
      "cell_type": "code",
      "metadata": {
        "id": "AW9gxzeEqCXk",
        "colab_type": "code",
        "colab": {}
      },
      "source": [
        "#loading model to train classifier\n",
        "loaded_coronal_acl = processing.load_model(processing.inception, processing.coronal, processing.acl, processing.extractor)"
      ],
      "execution_count": 0,
      "outputs": []
    },
    {
      "cell_type": "code",
      "metadata": {
        "id": "Y1_yk1lUqGij",
        "colab_type": "code",
        "colab": {}
      },
      "source": [
        "extractor_coronal_acl = Model(inputs=loaded_coronal_acl.input, outputs=loaded_coronal_acl.get_layer('block5_2').output)\n",
        "extractor_coronal_acl.summary()"
      ],
      "execution_count": 0,
      "outputs": []
    },
    {
      "cell_type": "code",
      "metadata": {
        "id": "-m_AzEBzqIXw",
        "colab_type": "code",
        "colab": {}
      },
      "source": [
        "#making classifier\n",
        "classifier_model_coronal_acl = classifier()"
      ],
      "execution_count": 0,
      "outputs": []
    },
    {
      "cell_type": "code",
      "metadata": {
        "id": "sunSTuzgqJm9",
        "colab_type": "code",
        "colab": {}
      },
      "source": [
        "#train classifire\n",
        "processing.train_classifier(extractor_coronal_acl, classifier_model_coronal_acl, processing.inception, processing.coronal, processing.acl)"
      ],
      "execution_count": 0,
      "outputs": []
    },
    {
      "cell_type": "markdown",
      "metadata": {
        "id": "LFYAdwiht2Ow",
        "colab_type": "text"
      },
      "source": [
        "## Coronal Meniscal"
      ]
    },
    {
      "cell_type": "code",
      "metadata": {
        "id": "ZybiYpzVt__e",
        "colab_type": "code",
        "colab": {}
      },
      "source": [
        "#loading model to train classifier\n",
        "loaded_coronal_meniscal = processing.load_model(processing.inception, processing.coronal, processing.meniscal, processing.extractor)"
      ],
      "execution_count": 0,
      "outputs": []
    },
    {
      "cell_type": "code",
      "metadata": {
        "id": "_yZzuCXRuCLE",
        "colab_type": "code",
        "colab": {}
      },
      "source": [
        "extractor_coronal_meniscal = Model(inputs=loaded_coronal_meniscal.input, outputs=loaded_coronal_meniscal.get_layer('block5_2').output)\n",
        "extractor_coronal_meniscal.summary()"
      ],
      "execution_count": 0,
      "outputs": []
    },
    {
      "cell_type": "code",
      "metadata": {
        "id": "VAx33X07uDs5",
        "colab_type": "code",
        "colab": {}
      },
      "source": [
        "#making classifier\n",
        "classifier_model_coronal_meniscal = classifier()"
      ],
      "execution_count": 0,
      "outputs": []
    },
    {
      "cell_type": "code",
      "metadata": {
        "id": "bV2ALiuMuFHc",
        "colab_type": "code",
        "colab": {}
      },
      "source": [
        "#train classifire\n",
        "processing.train_classifier(extractor_coronal_meniscal, classifier_model_coronal_meniscal, processing.inception, processing.coronal, processing.meniscal)"
      ],
      "execution_count": 0,
      "outputs": []
    }
  ]
}