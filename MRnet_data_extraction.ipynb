{
  "nbformat": 4,
  "nbformat_minor": 0,
  "metadata": {
    "colab": {
      "name": "MRnet_data_extraction.ipynb",
      "provenance": [],
      "collapsed_sections": [],
      "toc_visible": true,
      "include_colab_link": true
    },
    "kernelspec": {
      "name": "python3",
      "display_name": "Python 3"
    },
    "accelerator": "GPU"
  },
  "cells": [
    {
      "cell_type": "markdown",
      "metadata": {
        "id": "view-in-github",
        "colab_type": "text"
      },
      "source": [
        "<a href=\"https://colab.research.google.com/github/Jamaleldin/MRNET-for-Knee-Diagnosis/blob/master/MRnet_data_extraction.ipynb\" target=\"_parent\"><img src=\"https://colab.research.google.com/assets/colab-badge.svg\" alt=\"Open In Colab\"/></a>"
      ]
    },
    {
      "cell_type": "markdown",
      "metadata": {
        "id": "RyLgIsta1Czu",
        "colab_type": "text"
      },
      "source": [
        "# **All needed library imports**"
      ]
    },
    {
      "cell_type": "code",
      "metadata": {
        "id": "5Q5Ykg801JOi",
        "colab_type": "code",
        "colab": {}
      },
      "source": [
        "import numpy as np"
      ],
      "execution_count": 0,
      "outputs": []
    },
    {
      "cell_type": "markdown",
      "metadata": {
        "id": "aqvYMolL1w_D",
        "colab_type": "text"
      },
      "source": [
        "# **All needed labels and constants**"
      ]
    },
    {
      "cell_type": "code",
      "metadata": {
        "id": "SnCBigQXyCjd",
        "colab_type": "code",
        "colab": {}
      },
      "source": [
        "# Here we define the labels to be used in obtaining the data\n",
        "# series\n",
        "axial = 'axial';\n",
        "coronal = 'coronal';\n",
        "sagittal = 'sagittal';\n",
        "# data set\n",
        "valid = 'valid';\n",
        "train = 'train';\n",
        "# symptom\n",
        "acl = 'acl';\n",
        "meniscal = 'meniscus';\n",
        "abnormal = 'abnormal';\n",
        "# models\n",
        "vgg = 'VGG16';\n",
        "inception = 'Inception V3';\n",
        "resnet = 'Resnet';\n",
        "# model types\n",
        "extractor = 'Extractor';\n",
        "classifer = 'Classifier';\n",
        "regressor = 'Regressor';\n",
        "# paths\n",
        "path_data = '/content/drive/My Drive/MRNET data set/MRNet-v1.0';\n",
        "path_model = '/content/drive/My Drive/Models';\n",
        "delim = '/';\n",
        "# extensions\n",
        "extension_model = '.h5';\n",
        "extension_numpy = '.npy';\n",
        "extension_csv = '.csv';\n",
        "# total data\n",
        "total_train = 1130;\n",
        "total_test = 120;"
      ],
      "execution_count": 0,
      "outputs": []
    },
    {
      "cell_type": "markdown",
      "metadata": {
        "id": "0ITqvN9Pxq1E",
        "colab_type": "text"
      },
      "source": [
        "# **Obtaining the data for training in a correct format**"
      ]
    },
    {
      "cell_type": "code",
      "metadata": {
        "id": "DDisfeedicdn",
        "colab_type": "code",
        "outputId": "704f997c-6e8d-4657-e4ca-e9e5139ec71f",
        "colab": {
          "base_uri": "https://localhost:8080/",
          "height": 34
        }
      },
      "source": [
        "# importing the drive to obtain the data files\n",
        "from google.colab import drive\n",
        "drive.mount('/content/drive/')"
      ],
      "execution_count": 13,
      "outputs": [
        {
          "output_type": "stream",
          "text": [
            "Drive already mounted at /content/drive/; to attempt to forcibly remount, call drive.mount(\"/content/drive/\", force_remount=True).\n"
          ],
          "name": "stdout"
        }
      ]
    },
    {
      "cell_type": "code",
      "metadata": {
        "id": "lW7xpE0nFUH9",
        "colab_type": "code",
        "colab": {}
      },
      "source": [
        "# unzipping the data zip file run once\n",
        "!unzip '/content/drive/My Drive/MRNET data set/MRNet-v1.0.zip' -d '/content/drive/My Drive/MRNET data set'"
      ],
      "execution_count": 0,
      "outputs": []
    },
    {
      "cell_type": "code",
      "metadata": {
        "id": "L_sk_qq714vT",
        "colab_type": "code",
        "colab": {}
      },
      "source": [
        "# This function is used to obtain the data from drive to memory for training\n",
        "def get_data_train(series,anomaly,start = 0,batch_size = total_train):\n",
        "  input_data = [];\n",
        "  for exam_no in range(start,batch_size):\n",
        "      path_input = path_data + delim  + train + delim + series + delim + format(exam_no,'04d') + extension_numpy;\n",
        "      input_data.append(np.stack([np.load(path_input)] * 3, axis = 3))\n",
        "  path_output = path_data + delim + train + '-' + anomaly + extension_csv;\n",
        "  output_data = np.genfromtxt(path_output, delimiter= ',')[:,1].astype(int);\n",
        "  return input_data, output_data[start:batch_size];"
      ],
      "execution_count": 0,
      "outputs": []
    },
    {
      "cell_type": "code",
      "metadata": {
        "id": "8e5s8drLFYwL",
        "colab_type": "code",
        "colab": {}
      },
      "source": [
        "# This function is used to obtain the data from drive to memory for testing\n",
        "def get_data_test(series,anomaly,start = 0,batch_size = total_test):\n",
        "  input_data = [];\n",
        "  for iterator in range(start,batch_size):\n",
        "      exam_no = iterator + total_train;\n",
        "      path_input = path_data + delim  + valid + delim + series + delim + format(exam_no,'04d') + extension_numpy;\n",
        "      input_data.append(np.stack([np.load(path_input)] * 3, axis = 3))\n",
        "  path_output = path_data + delim + valid + '-' + anomaly + extension_csv;\n",
        "  output_data = np.genfromtxt(path_output, delimiter= ',')[:,1].astype(int);\n",
        "  return input_data, output_data[start:batch_size];"
      ],
      "execution_count": 0,
      "outputs": []
    },
    {
      "cell_type": "markdown",
      "metadata": {
        "id": "ByiaFQDs13YQ",
        "colab_type": "text"
      },
      "source": [
        "# **Data normalization part**"
      ]
    },
    {
      "cell_type": "code",
      "metadata": {
        "id": "dJA7UyZs18MJ",
        "colab_type": "code",
        "colab": {}
      },
      "source": [
        "# normalizing the image pixels to be a number from 0 to 1\n",
        "def normalize(X):\n",
        "  for x in X:\n",
        "    x = x/255\n",
        "  return X;"
      ],
      "execution_count": 0,
      "outputs": []
    },
    {
      "cell_type": "markdown",
      "metadata": {
        "id": "PsEVz5V8CB-K",
        "colab_type": "text"
      },
      "source": [
        "# **Data splitting part**"
      ]
    },
    {
      "cell_type": "code",
      "metadata": {
        "id": "L6mSwzflCHLi",
        "colab_type": "code",
        "colab": {}
      },
      "source": [
        "# splitting the data to train and validate with ratios 90% to 10%\n",
        "def split(X , Y):\n",
        "  return X[:1017],Y[:1017],X[1017:],Y[1017:];"
      ],
      "execution_count": 0,
      "outputs": []
    },
    {
      "cell_type": "code",
      "metadata": {
        "id": "sn3bbTLjCtFy",
        "colab_type": "code",
        "colab": {}
      },
      "source": [
        "x,y=get_data_train(axial,abnormal,start = 0,batch_size = 3);\n",
        "input_train,output_train,input_validate,output_validate = split(x,y);\n"
      ],
      "execution_count": 0,
      "outputs": []
    },
    {
      "cell_type": "code",
      "metadata": {
        "id": "FRsZm7TIRAFJ",
        "colab_type": "code",
        "colab": {}
      },
      "source": [
        "new_input_train = []\n",
        "for curr in input_train:\n",
        "  new_input_train.append(curr[0]);"
      ],
      "execution_count": 0,
      "outputs": []
    },
    {
      "cell_type": "code",
      "metadata": {
        "id": "aBpFq5R5RSmE",
        "colab_type": "code",
        "colab": {
          "base_uri": "https://localhost:8080/",
          "height": 34
        },
        "outputId": "049bafc1-dd63-438c-c15f-116b1e3aa9ef"
      },
      "source": [
        "new_input_train[0].shape"
      ],
      "execution_count": 33,
      "outputs": [
        {
          "output_type": "execute_result",
          "data": {
            "text/plain": [
              "(256, 256, 3)"
            ]
          },
          "metadata": {
            "tags": []
          },
          "execution_count": 33
        }
      ]
    },
    {
      "cell_type": "code",
      "metadata": {
        "id": "hHBv-5CGUL7_",
        "colab_type": "code",
        "colab": {
          "base_uri": "https://localhost:8080/",
          "height": 34
        },
        "outputId": "f6ec2f6a-12e5-4de9-b417-440b569328bb"
      },
      "source": [
        "len(new_input_train)"
      ],
      "execution_count": 34,
      "outputs": [
        {
          "output_type": "execute_result",
          "data": {
            "text/plain": [
              "3"
            ]
          },
          "metadata": {
            "tags": []
          },
          "execution_count": 34
        }
      ]
    },
    {
      "cell_type": "code",
      "metadata": {
        "id": "21LaCbc1UeK-",
        "colab_type": "code",
        "colab": {}
      },
      "source": [
        ""
      ],
      "execution_count": 0,
      "outputs": []
    }
  ]
}