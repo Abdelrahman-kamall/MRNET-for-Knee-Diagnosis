{
  "nbformat": 4,
  "nbformat_minor": 0,
  "metadata": {
    "colab": {
      "name": "MRnet_data_extraction.ipynb",
      "provenance": [],
      "collapsed_sections": [],
      "toc_visible": true,
      "include_colab_link": true
    },
    "kernelspec": {
      "name": "python3",
      "display_name": "Python 3"
    },
    "accelerator": "GPU"
  },
  "cells": [
    {
      "cell_type": "markdown",
      "metadata": {
        "id": "view-in-github",
        "colab_type": "text"
      },
      "source": [
        "<a href=\"https://colab.research.google.com/github/Jamaleldin/MRNET-for-Knee-Diagnosis/blob/master/MRnet_data_extraction.ipynb\" target=\"_parent\"><img src=\"https://colab.research.google.com/assets/colab-badge.svg\" alt=\"Open In Colab\"/></a>"
      ]
    },
    {
      "cell_type": "markdown",
      "metadata": {
        "id": "RyLgIsta1Czu",
        "colab_type": "text"
      },
      "source": [
        "# **All needed library imports**"
      ]
    },
    {
      "cell_type": "code",
      "metadata": {
        "id": "5Q5Ykg801JOi",
        "colab_type": "code",
        "colab": {}
      },
      "source": [
        "import numpy as np"
      ],
      "execution_count": 0,
      "outputs": []
    },
    {
      "cell_type": "markdown",
      "metadata": {
        "id": "aqvYMolL1w_D",
        "colab_type": "text"
      },
      "source": [
        "# **All needed labels and constants**"
      ]
    },
    {
      "cell_type": "code",
      "metadata": {
        "id": "SnCBigQXyCjd",
        "colab_type": "code",
        "colab": {}
      },
      "source": [
        "# Here we define the labels to be used in obtaining the data\n",
        "axial = 'axial';\n",
        "coronal = 'coronal';\n",
        "sagittal = 'sagittal';\n",
        "valid = 'valid';\n",
        "train = 'train';\n",
        "acl = 'acl';\n",
        "meniscal = 'meniscus';\n",
        "abnormal = 'abnormal';\n",
        "path = '/content/drive/My Drive/MRNET data set/MRNet-v1.0';\n",
        "delim = '/';\n",
        "extension_numpy = '.npy';\n",
        "extension_csv = '.csv';\n",
        "total_train = 1130;\n",
        "total_test = 120;"
      ],
      "execution_count": 0,
      "outputs": []
    },
    {
      "cell_type": "markdown",
      "metadata": {
        "id": "0ITqvN9Pxq1E",
        "colab_type": "text"
      },
      "source": [
        "# **Obtaining the data for training in a correct format**"
      ]
    },
    {
      "cell_type": "code",
      "metadata": {
        "id": "DDisfeedicdn",
        "colab_type": "code",
        "outputId": "30a26df1-39d2-4e72-92d3-04328f910720",
        "colab": {
          "base_uri": "https://localhost:8080/",
          "height": 125
        }
      },
      "source": [
        "# importing the drive to obtain the data files\n",
        "from google.colab import drive\n",
        "drive.mount('/content/drive/')"
      ],
      "execution_count": 0,
      "outputs": [
        {
          "output_type": "stream",
          "text": [
            "Go to this URL in a browser: https://accounts.google.com/o/oauth2/auth?client_id=947318989803-6bn6qk8qdgf4n4g3pfee6491hc0brc4i.apps.googleusercontent.com&redirect_uri=urn%3aietf%3awg%3aoauth%3a2.0%3aoob&response_type=code&scope=email%20https%3a%2f%2fwww.googleapis.com%2fauth%2fdocs.test%20https%3a%2f%2fwww.googleapis.com%2fauth%2fdrive%20https%3a%2f%2fwww.googleapis.com%2fauth%2fdrive.photos.readonly%20https%3a%2f%2fwww.googleapis.com%2fauth%2fpeopleapi.readonly\n",
            "\n",
            "Enter your authorization code:\n",
            "··········\n",
            "Mounted at /content/drive/\n"
          ],
          "name": "stdout"
        }
      ]
    },
    {
      "cell_type": "code",
      "metadata": {
        "id": "lW7xpE0nFUH9",
        "colab_type": "code",
        "colab": {}
      },
      "source": [
        "# unzipping the data zip file run once\n",
        "!unzip '/content/drive/My Drive/MRNET data set/MRNet-v1.0.zip' -d '/content/drive/My Drive/MRNET data set'"
      ],
      "execution_count": 0,
      "outputs": []
    },
    {
      "cell_type": "code",
      "metadata": {
        "id": "L_sk_qq714vT",
        "colab_type": "code",
        "colab": {}
      },
      "source": [
        "# This function is used to obtain the data from drive to memory for training\n",
        "def get_data_train(series,anomaly,start = 0,batch_size = total_train):\n",
        "  input_data = [];\n",
        "  for exam_no in range(start,batch_size):\n",
        "      path_input = path + delim  + train + delim + series + delim + format(exam_no,'04d') + extension_numpy;\n",
        "      input_data.append(np.stack([np.load(path_input)] * 3, axis = 3))\n",
        "      print(exam_no);\n",
        "  path_output = path + delim + train + '-' + anomaly + extension_csv;\n",
        "  output_data = np.genfromtxt(path_output, delimiter= ',')[:,1].astype(int);\n",
        "  return input_data, output_data[start:batch_size];"
      ],
      "execution_count": 0,
      "outputs": []
    },
    {
      "cell_type": "code",
      "metadata": {
        "id": "8e5s8drLFYwL",
        "colab_type": "code",
        "colab": {}
      },
      "source": [
        "# This function is used to obtain the data from drive to memory for testing\n",
        "def get_data_test(series,anomaly,start = 0,batch_size = total_test):\n",
        "  input_data = [];\n",
        "  for iterator in range(start,batch_size):\n",
        "      exam_no = iterator + total_train;\n",
        "      path_input = path + delim  + valid + delim + series + delim + format(exam_no,'04d') + extension_numpy;\n",
        "      input_data.append(np.stack([np.load(path_input)] * 3, axis = 3))\n",
        "      print(exam_no);\n",
        "  path_output = path + delim + valid + '-' + anomaly + extension_csv;\n",
        "  output_data = np.genfromtxt(path_output, delimiter= ',')[:,1].astype(int);\n",
        "  return input_data, output_data[start:batch_size];"
      ],
      "execution_count": 0,
      "outputs": []
    },
    {
      "cell_type": "markdown",
      "metadata": {
        "id": "ByiaFQDs13YQ",
        "colab_type": "text"
      },
      "source": [
        "# **Data normalization part**"
      ]
    },
    {
      "cell_type": "code",
      "metadata": {
        "id": "dJA7UyZs18MJ",
        "colab_type": "code",
        "colab": {}
      },
      "source": [
        "# normalizing the image pixels to be a number from 0 to 1\n",
        "def normalize(X):\n",
        "  for x in X:\n",
        "    x = x/255\n",
        "  return X;"
      ],
      "execution_count": 0,
      "outputs": []
    }
  ]
}